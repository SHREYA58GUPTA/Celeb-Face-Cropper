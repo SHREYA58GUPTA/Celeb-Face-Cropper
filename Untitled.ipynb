{
 "cells": [
  {
   "cell_type": "code",
   "execution_count": 9,
   "id": "a8f7911f-e12d-482f-ad92-0ae4d4351567",
   "metadata": {},
   "outputs": [
    {
     "name": "stdout",
     "output_type": "stream",
     "text": [
      "Path to the solution: [(1, 1), (1, 2), (1, 3), (2, 3), (3, 3), (4, 3), (5, 3)]\n"
     ]
    }
   ],
   "source": [
    "def is_valid_move(maze, x, y, visited):\n",
    "    \"\"\"Check if the move is within the maze and not yet visited.\"\"\"\n",
    "    rows, cols = len(maze), len(maze[0])\n",
    "    if 0 <= x < rows and 0 <= y < cols and maze[x][y] == 0 and (x, y) not in visited:\n",
    "        return True\n",
    "    return False\n",
    "\n",
    "def dfs(maze, start, end, path=None, visited=None):\n",
    "    if path is None:\n",
    "        path = []\n",
    "    if visited is None:\n",
    "        visited = set()\n",
    "    \n",
    "    x, y = start\n",
    "    if start == end:\n",
    "        return path + [end]\n",
    "    \n",
    "    visited.add(start)\n",
    "    path.append(start)\n",
    "\n",
    "    directions = [(0, 1), (1, 0), (0, -1), (-1, 0)]  # Right, Down, Left, Up\n",
    "    for direction in directions:\n",
    "        next_x, next_y = x + direction[0], y + direction[1]\n",
    "        if is_valid_move(maze, next_x, next_y, visited):\n",
    "            result = dfs(maze, (next_x, next_y), end, path.copy(), visited.copy())\n",
    "            if result:\n",
    "                return result\n",
    "\n",
    "    return None\n",
    "\n",
    "# Example maze\n",
    "maze = [\n",
    "    [1, 1, 1, 1, 1],\n",
    "    [1, 0, 0, 0, 1],\n",
    "    [1, 0, 1, 0, 1],\n",
    "    [1, 0, 1, 0, 1],\n",
    "    [1, 1, 1, 0, 1],\n",
    "    [1, 0, 0, 0, 1],\n",
    "    [1, 1, 1, 1, 1]\n",
    "]\n",
    "\n",
    "start = (1, 1)\n",
    "end = (5, 3)\n",
    "\n",
    "solution = dfs(maze, start, end)\n",
    "\n",
    "if solution:\n",
    "    print(\"Path to the solution:\", solution)\n",
    "else:\n",
    "    print(\"No path found.\")\n",
    "\n",
    "\n",
    "\n"
   ]
  }
 ],
 "metadata": {
  "kernelspec": {
   "display_name": "Python 3 (ipykernel)",
   "language": "python",
   "name": "python3"
  },
  "language_info": {
   "codemirror_mode": {
    "name": "ipython",
    "version": 3
   },
   "file_extension": ".py",
   "mimetype": "text/x-python",
   "name": "python",
   "nbconvert_exporter": "python",
   "pygments_lexer": "ipython3",
   "version": "3.11.4"
  }
 },
 "nbformat": 4,
 "nbformat_minor": 5
}
